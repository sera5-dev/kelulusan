{
 "cells": [
  {
   "cell_type": "code",
   "execution_count": 26,
   "metadata": {},
   "outputs": [],
   "source": [
    "import os\n",
    "import numpy\n",
    "import pandas\n",
    "\n",
    "from sklearn.metrics import accuracy_score\n",
    "from sklearn.metrics import confusion_matrix\n",
    "from sklearn.metrics import classification_report\n",
    "\n",
    "from sklearn.preprocessing import LabelEncoder\n",
    "\n",
    "from sklearn.model_selection import KFold\n",
    "from sklearn.model_selection import cross_val_score\n",
    "from sklearn.model_selection import train_test_split\n",
    "\n",
    "from sklearn import tree\n",
    "from sklearn.svm import SVC as SVM\n",
    "from sklearn.naive_bayes import GaussianNB as NVB\n",
    "from sklearn.linear_model import SGDClassifier as SGD\n",
    "from sklearn.tree import DecisionTreeClassifier as DTR\n",
    "from sklearn.neighbors import KNeighborsClassifier as KNN\n",
    "from sklearn.ensemble import RandomForestClassifier as RFR\n",
    "from sklearn.linear_model import LogisticRegression as LGR\n",
    "from sklearn.discriminant_analysis import LinearDiscriminantAnalysis as LDA"
   ]
  },
  {
   "cell_type": "code",
   "execution_count": 43,
   "metadata": {
    "scrolled": true
   },
   "outputs": [],
   "source": [
    "import pandas\n",
    "\n",
    "df = pandas.read_csv('../dataset/datakelulusanmahasiswa.csv')\n",
    "df.dropna(0, inplace=True)\n",
    "\n",
    "df = df.drop(['NAMA'], axis=1)"
   ]
  },
  {
   "cell_type": "code",
   "execution_count": 44,
   "metadata": {},
   "outputs": [],
   "source": [
    "from sklearn.preprocessing import LabelEncoder\n",
    "attributes = [\n",
    "    'JENIS KELAMIN',\n",
    "    'STATUS MAHASISWA',\n",
    "    'STATUS NIKAH', \n",
    "    'STATUS KELULUSAN',\n",
    "]\n",
    "for attr in attributes :\n",
    "    df[attr] = LabelEncoder().fit_transform(df[attr])"
   ]
  },
  {
   "cell_type": "code",
   "execution_count": 45,
   "metadata": {},
   "outputs": [],
   "source": [
    "X = df.drop('STATUS KELULUSAN', axis='columns')\n",
    "Y = df['STATUS KELULUSAN']\n",
    "X_train, X_test, Y_train, Y_test = train_test_split(X,Y,test_size=0.3)"
   ]
  },
  {
   "cell_type": "code",
   "execution_count": 46,
   "metadata": {},
   "outputs": [
    {
     "data": {
      "text/plain": [
       "[{'name': 'SVM', 'mean': 75.97, 'acc': 77},\n",
       " {'name': 'NVB', 'mean': 88.75, 'acc': 87},\n",
       " {'name': 'DTR', 'mean': 85.68, 'acc': 82},\n",
       " {'name': 'SGD', 'mean': 76.82, 'acc': 89},\n",
       " {'name': 'KNN', 'mean': 85.01, 'acc': 82},\n",
       " {'name': 'LDA', 'mean': 88.72, 'acc': 89},\n",
       " {'name': 'LGR', 'mean': 88.73, 'acc': 88},\n",
       " {'name': 'RFR', 'mean': 91.75, 'acc': 91}]"
      ]
     },
     "execution_count": 46,
     "metadata": {},
     "output_type": "execute_result"
    }
   ],
   "source": [
    "models = []\n",
    "\n",
    "models.append(('SVM', SVM()))\n",
    "models.append(('NVB', NVB()))\n",
    "models.append(('DTR', DTR()))\n",
    "models.append(('SGD', SGD()))\n",
    "models.append(('KNN', KNN()))\n",
    "models.append(('LDA', LDA()))\n",
    "models.append(('LGR', LGR(max_iter=200)))\n",
    "models.append(('RFR', RFR()))\n",
    "\n",
    "cross_validation = []\n",
    "\n",
    "for name, model in models:\n",
    "    cv_results = cross_val_score(model, X_train, Y_train, cv=KFold(n_splits=10))\n",
    "    model.fit(X_train, Y_train)\n",
    "    cv = {}\n",
    "    cv[\"name\"] = name\n",
    "    cv[\"mean\"] = round(cv_results.mean()*100,2)\n",
    "    cv[\"acc\"] = round(accuracy_score(Y_test, model.predict(X_test))*100)\n",
    "    cross_validation.append(cv)\n",
    "\n",
    "cross_validation"
   ]
  },
  {
   "cell_type": "code",
   "execution_count": 47,
   "metadata": {},
   "outputs": [
    {
     "name": "stdout",
     "output_type": "stream",
     "text": [
      "              precision    recall  f1-score     support\n",
      "0              0.918919  0.931507  0.925170   73.000000\n",
      "1              0.875000  0.853659  0.864198   41.000000\n",
      "accuracy       0.903509  0.903509  0.903509    0.903509\n",
      "macro avg      0.896959  0.892583  0.894684  114.000000\n",
      "weighted avg   0.903124  0.903509  0.903241  114.000000\n"
     ]
    }
   ],
   "source": [
    "model = RFR(n_estimators=50, max_features=\"sqrt\")\n",
    "model.fit(X_train, Y_train)\n",
    "predictions = model.predict(X_test)\n",
    "cr = classification_report(Y_test, predictions, output_dict=True)\n",
    "performance = pandas.DataFrame(cr).transpose()\n",
    "print(performance)"
   ]
  },
  {
   "cell_type": "code",
   "execution_count": 48,
   "metadata": {},
   "outputs": [
    {
     "data": {
      "text/plain": [
       "{'JENIS KELAMIN': 0.008654905047861513,\n",
       " 'STATUS MAHASISWA': 0.3912583740689499,\n",
       " 'UMUR': 0.09985535695785573,\n",
       " 'STATUS NIKAH': 0.0009279110320522295,\n",
       " 'IPS 1': 0.050067880031707264,\n",
       " 'IPS 2': 0.05545353634664853,\n",
       " 'IPS 3': 0.044850179381388855,\n",
       " 'IPS 4': 0.08702266037413521,\n",
       " 'IPS 5': 0.08223659631538047,\n",
       " 'IPS 6': 0.03953494142943315,\n",
       " 'IPS 7': 0.05158527765847151,\n",
       " 'IPS 8': 0.02793767729447427,\n",
       " 'IPK': 0.060614704061641295}"
      ]
     },
     "execution_count": 48,
     "metadata": {},
     "output_type": "execute_result"
    }
   ],
   "source": [
    "importances = dict(zip(df.columns, model.feature_importances_))\n",
    "importances"
   ]
  },
  {
   "cell_type": "code",
   "execution_count": 34,
   "metadata": {},
   "outputs": [],
   "source": [
    "def prediksi(model, data):\n",
    "    labels = [\"TEPAT\",\"TERLAMBAT\"]\n",
    "    array = numpy.asarray(data)\n",
    "    prediction=model.predict(array)\n",
    "    no_of_test_cases, cols = array.shape\n",
    "    \n",
    "    for i in range(no_of_test_cases):\n",
    "        print(\"Mahasiswa Diprediksi Lulus {}\".format(labels[int(prediction[i])]))"
   ]
  },
  {
   "cell_type": "code",
   "execution_count": 35,
   "metadata": {},
   "outputs": [
    {
     "name": "stdout",
     "output_type": "stream",
     "text": [
      "Mahasiswa Diprediksi Lulus TERLAMBAT\n",
      "Mahasiswa Diprediksi Lulus TEPAT\n",
      "Mahasiswa Diprediksi Lulus TEPAT\n",
      "Mahasiswa Diprediksi Lulus TEPAT\n",
      "Mahasiswa Diprediksi Lulus TERLAMBAT\n"
     ]
    }
   ],
   "source": [
    "new_data = [\n",
    "    [0,0,25,0,2.5,2.5,3,3,2.7,2.8,2.9,3,3],\n",
    "    [1,1,25,1,4,4,4,4,4,4,4,4,4],\n",
    "    [1,1,25,0,3.71,3.79,3.96,3.91,3.75,3.94,2.58,4.00,3.71],\n",
    "    [0,1,21,0,3.79,3.29,2.98,3.55,3.75,3.71,4.00,4.00,3.60],\n",
    "    [0,0,24,0,2.64,1.61,1.21,0.83,1.11,1.36,1.18,0.38,1.29],\n",
    "]\n",
    "\n",
    "prediksi(model, new_data)"
   ]
  }
 ],
 "metadata": {
  "kernelspec": {
   "display_name": "Python 3",
   "language": "python",
   "name": "python3"
  },
  "language_info": {
   "codemirror_mode": {
    "name": "ipython",
    "version": 3
   },
   "file_extension": ".py",
   "mimetype": "text/x-python",
   "name": "python",
   "nbconvert_exporter": "python",
   "pygments_lexer": "ipython3",
   "version": "3.8.6"
  }
 },
 "nbformat": 4,
 "nbformat_minor": 4
}
